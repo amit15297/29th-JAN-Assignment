{
 "cells": [
  {
   "cell_type": "code",
   "execution_count": 35,
   "id": "413795a2-ce7a-4af0-92f5-33f805bb19ea",
   "metadata": {},
   "outputs": [],
   "source": [
    "# Ques.1  Who developed Python programming language ?\n",
    "\n",
    "# Ans.   Python was developed by Guido van Rossum and was released first on February 20, 1991 . "
   ]
  },
  {
   "cell_type": "code",
   "execution_count": 36,
   "id": "0e720c6d-6301-4dfa-84ef-92923f9b53de",
   "metadata": {},
   "outputs": [],
   "source": [
    "# Ques.2  Which type of programming does Python support ?\n",
    "\n",
    "# Ans.    Python is a multi-paradigm programming language.\n",
    "#         Object-oriented programming and structured programming are fully supported, \n",
    "#         and many of their features support functional programming and aspect-oriented programming"
   ]
  },
  {
   "cell_type": "code",
   "execution_count": 37,
   "id": "669ffab4-6c17-49b8-b9de-b98e44f60d4c",
   "metadata": {},
   "outputs": [],
   "source": [
    "# Ques.3  Is python case sensitive when dealing with the Identifiers ?\n",
    "\n",
    "# Ans.    Yes, Python is a case-sensitive language .It treats uppercase and lowercase characters differently. \n",
    "#         This applies to identifiers too. "
   ]
  },
  {
   "cell_type": "code",
   "execution_count": 38,
   "id": "bcf38676-ac01-43b1-8313-876a22b57181",
   "metadata": {},
   "outputs": [],
   "source": [
    "# Ques.4  What is the correct extension of python file ?\n",
    "\n",
    "# Ans.    The correct file extension for Python files is .py"
   ]
  },
  {
   "cell_type": "code",
   "execution_count": 39,
   "id": "12c2a040-1521-4ec3-bcbb-2919322d17a5",
   "metadata": {},
   "outputs": [],
   "source": [
    "# Ques.5  Is python code compiled or interpreted ?\n",
    "\n",
    "# Ans.    Python is both compiled as well as an interpreted language, which means when we run a python code,\n",
    "#         it is first compiled and then interpreted line by line. But the compiler part is hidden from the programmer."
   ]
  },
  {
   "cell_type": "code",
   "execution_count": 40,
   "id": "ab1673b4-1b00-4669-a5b7-4f51a36bf521",
   "metadata": {},
   "outputs": [],
   "source": [
    "# Ques.6  Name a few block of codes used to define in Python language ?\n",
    "\n",
    "# Ans.    A Python program is constructed from code blocks. A block is a piece of Python program text that is executed as a unit.\n",
    "#        \" The following are blocks: a module, a function body, and a class definition. \"\n",
    "#         Each command typed interactively is a block"
   ]
  },
  {
   "cell_type": "code",
   "execution_count": 41,
   "id": "419b5b20-73e4-49ed-a54f-0e66182cef0e",
   "metadata": {},
   "outputs": [],
   "source": [
    "# Ques.7  State a character usesd to give a single line comment in python ?\n",
    "\n",
    "# Ans.     Hash Character (#)  is used to give single line comments in python ."
   ]
  },
  {
   "cell_type": "code",
   "execution_count": 42,
   "id": "dbb9ff52-e847-4835-a74c-619bfa2a97da",
   "metadata": {},
   "outputs": [],
   "source": [
    "# Ques.8  Mention functions which can help us to find the version of python we are currently working on ?\n",
    "\n",
    "# Ans.     To get the Version of the python Interpreter, they are listed as follows:\n",
    "#           sys.version method\n",
    "#           python_version() function\n",
    "#           Python -V command"
   ]
  },
  {
   "cell_type": "code",
   "execution_count": 43,
   "id": "e3ff34db-27db-4e7a-b5ea-92695afc30b7",
   "metadata": {},
   "outputs": [],
   "source": [
    "# Ques.9   Python supports the creation of anonymous function at runtime ,using a construct called ______\n",
    "\n",
    "# Ans.    Python supports the creation of anonymous functions at runtime, using a construct called lambda."
   ]
  },
  {
   "cell_type": "code",
   "execution_count": 44,
   "id": "2d50e83d-9c2d-454a-b6a9-07e64047d549",
   "metadata": {},
   "outputs": [],
   "source": [
    "# Ques.10   What does pip stands for in Python ?\n",
    "\n",
    "# Ans.   PIP stands for \"Preferred Installer Program\"\n",
    "#        Pip is a package manager for Python that allows you to install additional libraries and packages that are not part of the standard Python library "
   ]
  },
  {
   "cell_type": "code",
   "execution_count": 45,
   "id": "ed431db8-3409-497a-a8a4-a70d3a83b204",
   "metadata": {},
   "outputs": [],
   "source": [
    "# Ques.11  Mention a few built-in functions in python ?\n",
    "\n",
    "# Ans.   print( ) function ,  type( ) function  ,  input( ) function  , max( ) function "
   ]
  },
  {
   "cell_type": "code",
   "execution_count": 46,
   "id": "935ea32b-0c3c-4d5b-a199-f701b9807796",
   "metadata": {},
   "outputs": [],
   "source": [
    "# Ques.12  What is the maximun possible length of an identifier in Python ?\n",
    "\n",
    "# Ans.   An identifier can have a maximum length of 79 characters in Python."
   ]
  },
  {
   "cell_type": "code",
   "execution_count": 47,
   "id": "2d1aeccb-0291-4287-bf4b-e99711ba4f91",
   "metadata": {},
   "outputs": [],
   "source": [
    "# Ques.13  What are the benefits of using Python ?\n",
    "\n",
    "# Ans.    The benefits of using Python are :\n",
    "#          Simple and Easy to learn , read and write\n",
    "#          Free and Open-Source\n",
    "#          Dyanamic Language\n",
    "#          It is Interpreted ,Since statements are executed one by one, debugging is easier "
   ]
  },
  {
   "cell_type": "code",
   "execution_count": 48,
   "id": "c057de2e-d3d8-456c-bf4f-7c93c7f488e2",
   "metadata": {},
   "outputs": [],
   "source": [
    "# Ques.14  How is memory managed in Python ?\n",
    "# Ans.     Memory management in Python involves a private heap containing all Python objects and data structures. \n",
    "#          The management of this private heap is ensured internally by the Python memory manager. \n",
    "#          The Python memory manager has different components which deal with various dynamic storage management aspects, like sharing, segmentation, preallocation or caching."
   ]
  },
  {
   "cell_type": "code",
   "execution_count": 49,
   "id": "2aac93ba-ffab-4cac-8774-a2f2fbed5ec5",
   "metadata": {},
   "outputs": [],
   "source": [
    "# Ques.15  How to install Python on windows and set path variables ?\n",
    "# Ans.   The complete path of python.exe can be added by:\n",
    "\n",
    "#        1.Right-clicking This PC and going to Properties.\n",
    "#        2.Clicking on the Advanced system settings in the menu on the left.\n",
    "#        3.Clicking on the Environment Variables button on the bottom right.\n",
    "#        4.In the System variables section, selecting the Path variable and clicking on Edit. The next screen will show all the directories that are currently a part of the PATH variable.\n",
    "#        5.Clicking on New and entering Python’s install directory."
   ]
  },
  {
   "cell_type": "code",
   "execution_count": 50,
   "id": "64ac2951-8fe5-4493-b4bf-7b3bf20e23e1",
   "metadata": {},
   "outputs": [],
   "source": [
    "# Ques.16  Is indentation required in Python ?\n",
    "# Ans.      Indentation refers to the spaces at the beginning of a code line. Where in other programming languages the indentation in code is for readability only,\n",
    "#           the \"indentation in Python is very important\". \n",
    "#           Python uses indentation to indicate a block of code."
   ]
  },
  {
   "cell_type": "code",
   "execution_count": null,
   "id": "583a124a-e890-4b37-8d52-cb181ab36054",
   "metadata": {},
   "outputs": [],
   "source": []
  }
 ],
 "metadata": {
  "kernelspec": {
   "display_name": "Python 3 (ipykernel)",
   "language": "python",
   "name": "python3"
  },
  "language_info": {
   "codemirror_mode": {
    "name": "ipython",
    "version": 3
   },
   "file_extension": ".py",
   "mimetype": "text/x-python",
   "name": "python",
   "nbconvert_exporter": "python",
   "pygments_lexer": "ipython3",
   "version": "3.10.8"
  }
 },
 "nbformat": 4,
 "nbformat_minor": 5
}
